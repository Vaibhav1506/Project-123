{
  "nbformat": 4,
  "nbformat_minor": 0,
  "metadata": {
    "colab": {
      "name": "Project 123.ipynb",
      "provenance": []
    },
    "kernelspec": {
      "name": "python3",
      "display_name": "Python 3"
    },
    "language_info": {
      "name": "python"
    }
  },
  "cells": [
    {
      "cell_type": "code",
      "execution_count": null,
      "metadata": {
        "id": "-MzV3hLs5aoo"
      },
      "outputs": [],
      "source": [
        "import cv2\n",
        "import numpy as np\n",
        "import pandas as pd\n",
        "import seaborn as sns\n",
        "import matplotlib.pyplot as plt\n",
        "\n",
        "from sklearn.datasets import fetch_openml\n",
        "from sklearn.model_selection import train_test_split\n",
        "from sklearn.linear_model import LogisticRegression\n",
        "from sklearn.metrics import accuracy_score\n",
        "\n",
        "X , y = fetch_openml(\"mnist_784\", version = 1, return_X_y = True)\n",
        "\n",
        "print(pd.Series(y).value_counts())\n",
        "\n",
        "classes = ['A', 'B', 'C', 'D', 'E', 'F', 'G', 'H', 'I', 'J', 'K', 'L', 'M', 'N', 'O', 'P', 'Q', 'R', 'S', 'T', 'U', 'V', 'W', 'X', 'Y', 'Z']\n",
        "\n",
        "nclass = len(classes) \n",
        "\n",
        "samples_per_class = 5\n",
        "figure = plt.figure(figsize = (len_class * 2, (1 + samples_per_class * 2)))\n",
        "\n",
        "idx_cls = 0\n",
        "for cls in classes:\n",
        "  idxs = np.flatnonzero(y == cls)\n",
        "  idxs = np.random.choice(idxs, samples_per_class, replace = False)\n",
        "  i = 0\n",
        "  for idx in idxs:\n",
        "    plt_idx = i * nclasses + idx_cls + 1\n",
        "    p = plt.subplot(samples_per_class, nclasses, plt_idx);\n",
        "    p = sns.heatmap(np.reshape(X[idx], (22,30)), cmap = plt.cm.gray, xticklabels = False, yticklabels = False, cbar = False);\n",
        "    p = plt.axis('off');\n",
        "    i += 1\n",
        "  idx_cls += 1\n",
        "\n",
        "print(len(X))\n",
        "\n",
        "print(len(X.loc[0]))\n",
        "\n",
        "print(X.loc[0])\n",
        "print(y.loc[0])\n",
        "\n",
        "X_train, X_test, Y_train, Y_test = train_test_split(X, y, random_state = 9, train_size = 7500, test_size = 2500)\n",
        "\n",
        "X_train_scaled = X_train / 255.0\n",
        "X_test_scaled = X_test / 255.0 \n",
        "\n",
        "clf = LogisticRegression(solver = \"saga\",  multi_class = \"multinomial\").fit(X_train_scaled, Y_train)\n",
        "\n",
        "Y_prediction = clf.predict(X_test_scaled)\n",
        "\n",
        "accuracy = accuracy_score(Y_test, Y_prediction)\n",
        "\n",
        "print(\"The accuracy of the data set is:\", accuracy*100 , \"%\")"
      ]
    }
  ]
}